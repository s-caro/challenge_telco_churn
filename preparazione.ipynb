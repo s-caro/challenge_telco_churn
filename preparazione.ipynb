{
 "cells": [
  {
   "cell_type": "code",
   "execution_count": null,
   "id": "1c6d8490",
   "metadata": {},
   "outputs": [],
   "source": [
    "!pip install numpy\n",
    "!pip install pandas\n",
    "!pip install matplotlib\n",
    "!pip install seaborn\n",
    "import pandas as pd\n",
    "from sklearn.model_selection import train_test_split"
   ]
  },
  {
   "cell_type": "code",
   "execution_count": null,
   "id": "eb33673f",
   "metadata": {},
   "outputs": [],
   "source": [
    "# carichiamo il dataset\n",
    "dataset = pd.read_csv(\"Telco-Customer-Churn.partial.csv\")"
   ]
  },
  {
   "cell_type": "markdown",
   "id": "89c22d6d",
   "metadata": {},
   "source": [
    "# Splitting"
   ]
  },
  {
   "cell_type": "code",
   "execution_count": null,
   "id": "308a2b02",
   "metadata": {},
   "outputs": [],
   "source": [
    "# dividiamo il dataset in train set e test set\n",
    "dati_train, dati_test = train_test_split(dataset, test_size = 0.20, random_state = 100)"
   ]
  },
  {
   "cell_type": "code",
   "execution_count": null,
   "id": "accc7e21",
   "metadata": {},
   "outputs": [],
   "source": [
    "dati_train.to_csv(\"train.csv\", index=False)"
   ]
  },
  {
   "cell_type": "code",
   "execution_count": null,
   "id": "547e84fe",
   "metadata": {},
   "outputs": [],
   "source": [
    "dati_test.to_csv(\"test.csv\", index=False)"
   ]
  }
 ],
 "metadata": {
  "kernelspec": {
   "display_name": "Python 3",
   "language": "python",
   "name": "python3"
  },
  "language_info": {
   "codemirror_mode": {
    "name": "ipython",
    "version": 3
   },
   "file_extension": ".py",
   "mimetype": "text/x-python",
   "name": "python",
   "nbconvert_exporter": "python",
   "pygments_lexer": "ipython3",
   "version": "3.8.8"
  }
 },
 "nbformat": 4,
 "nbformat_minor": 5
}
